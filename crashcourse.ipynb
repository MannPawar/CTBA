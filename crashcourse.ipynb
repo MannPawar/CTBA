{
 "cells": [
  {
   "cell_type": "code",
   "execution_count": 3,
   "id": "ee89a738",
   "metadata": {},
   "outputs": [
    {
     "name": "stdout",
     "output_type": "stream",
     "text": [
      "7\n",
      "data\n",
      "10\n",
      "15\n"
     ]
    }
   ],
   "source": [
    "x = 7\n",
    "y = \"data\"\n",
    "\n",
    "print(x)\n",
    "print(y)\n",
    "\n",
    "my_variable = 10\n",
    "print(my_variable)\n",
    "\n",
    "my_variable += 5\n",
    "print(my_variable)"
   ]
  },
  {
   "cell_type": "markdown",
   "id": "63cfdff8",
   "metadata": {},
   "source": [
    "Working with Strings"
   ]
  },
  {
   "cell_type": "code",
   "execution_count": 15,
   "id": "5aeed19d",
   "metadata": {},
   "outputs": [
    {
     "name": "stdout",
     "output_type": "stream",
     "text": [
      "What are you studying?\n",
      "Analytics!\n",
      "What are you studying? Analytics!\n",
      "What are you studying? Analytics!\n",
      "What are you studying?\n",
      "Analytics!\n"
     ]
    },
    {
     "data": {
      "text/plain": [
       "str"
      ]
     },
     "execution_count": 15,
     "metadata": {},
     "output_type": "execute_result"
    }
   ],
   "source": [
    "\"I am a MSBA student\"\n",
    "\n",
    "question = \"What are you studying?\"\n",
    "answer = \"Analytics!\"\n",
    "print(question)\n",
    "print(answer)\n",
    "\n",
    "print(question + \" \" + answer) #Concatenation using standard format\n",
    "print(f\"{question} {answer}\") #Concatenation using f-string format\n",
    "\n",
    "##adding a line break\n",
    "print(question + \"\\n\" + answer)\n",
    "\n",
    "type(answer) #type function tells you the data type of a variable"
   ]
  },
  {
   "cell_type": "code",
   "execution_count": 16,
   "id": "a6ed069b",
   "metadata": {},
   "outputs": [
    {
     "data": {
      "text/plain": [
       "10"
      ]
     },
     "execution_count": 16,
     "metadata": {},
     "output_type": "execute_result"
    }
   ],
   "source": [
    "len(answer) #len function tells you the length of a string"
   ]
  },
  {
   "cell_type": "code",
   "execution_count": 17,
   "id": "0b7bd96d",
   "metadata": {},
   "outputs": [
    {
     "data": {
      "text/plain": [
       "'!'"
      ]
     },
     "execution_count": 17,
     "metadata": {},
     "output_type": "execute_result"
    }
   ],
   "source": [
    "answer[0] #Indexing starts at 0, so this is the first letter\n",
    "answer[-1] #This is the last letter\n",
    "answer[2] #This is the third letter\n",
    "answer[9] #This is the tenth letter"
   ]
  },
  {
   "cell_type": "code",
   "execution_count": null,
   "id": "ec45d7fe",
   "metadata": {},
   "outputs": [
    {
     "name": "stdout",
     "output_type": "stream",
     "text": [
      "CT\n"
     ]
    }
   ],
   "source": [
    "course = \"CTBA\"\n",
    "len(course) #length of the string\n",
    "print(course[0:2]) #prints the first two letters\n"
   ]
  },
  {
   "cell_type": "code",
   "execution_count": null,
   "id": "cec1dbf4",
   "metadata": {},
   "outputs": [
    {
     "name": "stdout",
     "output_type": "stream",
     "text": [
      "ANALYTICS!\n",
      "analytics!\n"
     ]
    },
    {
     "data": {
      "text/plain": [
       "5"
      ]
     },
     "execution_count": 22,
     "metadata": {},
     "output_type": "execute_result"
    }
   ],
   "source": [
    "#functiona and methods\n",
    "answer_cap = answer.upper() #makes all letters uppercase\n",
    "print(answer_cap)\n",
    "\n",
    "answer_lower = answer.lower() #makes all letters lowercase\n",
    "print(answer_lower)\n",
    "\n",
    "answer.find(\"t\") #Find the index of the first occurrence of \"t\""
   ]
  },
  {
   "cell_type": "code",
   "execution_count": null,
   "id": "11cd06ef",
   "metadata": {},
   "outputs": [
    {
     "name": "stdout",
     "output_type": "stream",
     "text": [
      "Hello my name is Mann Pawar. I am studying Business Analytics.\n"
     ]
    }
   ],
   "source": [
    "name = \"Mann Pawar\"\n",
    "\n",
    "print(\"Hello my name is \" + name + \". I am studying \" + \"Business Analytics.\" )"
   ]
  },
  {
   "cell_type": "code",
   "execution_count": 26,
   "id": "e04a5de4",
   "metadata": {},
   "outputs": [
    {
     "ename": "TypeError",
     "evalue": "'tuple' object does not support item assignment",
     "output_type": "error",
     "traceback": [
      "\u001b[31m---------------------------------------------------------------------------\u001b[39m",
      "\u001b[31mTypeError\u001b[39m                                 Traceback (most recent call last)",
      "\u001b[36mCell\u001b[39m\u001b[36m \u001b[39m\u001b[32mIn[26]\u001b[39m\u001b[32m, line 3\u001b[39m\n\u001b[32m      1\u001b[39m \u001b[38;5;66;03m#Tuples\u001b[39;00m\n\u001b[32m      2\u001b[39m t1 = (\u001b[32m1\u001b[39m, \u001b[32m2\u001b[39m, \u001b[32m3\u001b[39m, \u001b[32m4\u001b[39m, \u001b[32m5\u001b[39m)\n\u001b[32m----> \u001b[39m\u001b[32m3\u001b[39m \u001b[43mt1\u001b[49m\u001b[43m[\u001b[49m\u001b[32;43m0\u001b[39;49m\u001b[43m]\u001b[49m = \u001b[32m11\u001b[39m \u001b[38;5;66;03m#This will give an error because tuples are immutable\u001b[39;00m\n",
      "\u001b[31mTypeError\u001b[39m: 'tuple' object does not support item assignment"
     ]
    }
   ],
   "source": [
    "#Tuples\n",
    "t1 = (1, 2, 3, 4, 5)\n",
    "t1[0] = 11 #This will give an error because tuples are immutable"
   ]
  },
  {
   "cell_type": "code",
   "execution_count": 28,
   "id": "6a995cfa",
   "metadata": {},
   "outputs": [
    {
     "name": "stdout",
     "output_type": "stream",
     "text": [
      "{'name': 'Mann Pawar', 'age': 24, 'city': 'Mumbai'}\n",
      "Mann Pawar\n",
      "{'name': 'Mann Pawar', 'age': 24, 'city': 'Mumbai', 'email': 'mspawar@wm.edu'}\n"
     ]
    }
   ],
   "source": [
    "d1 = {\"name\": \"Mann Pawar\", \"age\": 24, \"city\": \"Mumbai\"}\n",
    "\n",
    "print(d1)\n",
    "\n",
    "print(d1[\"name\"]) #Accessing value using key\n",
    "\n",
    "d1[\"email\"] = \"mspawar@wm.edu\" #Adding a new key-value pair\n",
    "print(d1)"
   ]
  },
  {
   "cell_type": "code",
   "execution_count": 30,
   "id": "5d1c2437",
   "metadata": {},
   "outputs": [
    {
     "name": "stdout",
     "output_type": "stream",
     "text": [
      "name: Mann Pawar\n",
      "age: 24\n",
      "city: Mumbai\n",
      "email: mspawar@wm.edu\n"
     ]
    }
   ],
   "source": [
    "for key, value in d1.items():\n",
    "    print(key + \": \" + str(value))"
   ]
  },
  {
   "cell_type": "code",
   "execution_count": null,
   "id": "321e41ab",
   "metadata": {},
   "outputs": [],
   "source": [
    "#dictionary of dictionaries\n",
    "people = {\n",
    "    person1: {\"name\": \"Alice\", \"age\": 30, \"city\": \"New York\"},\n",
    "    person2: {\"name\": \"Bob\", \"age\": 25, \"city\": \"Los Angeles\"},\n",
    "}"
   ]
  },
  {
   "cell_type": "code",
   "execution_count": 32,
   "id": "0e6c356c",
   "metadata": {},
   "outputs": [
    {
     "name": "stdout",
     "output_type": "stream",
     "text": [
      "10\n"
     ]
    }
   ],
   "source": [
    "distance = {\n",
    "    \"A\": {\"B\": 10, \"C\": 15},\n",
    "    \"B\": {\"A\": 10, \"C\": 20},\n",
    "    \"C\": {\"A\": 15, \"B\": 20},\n",
    "}\n",
    "\n",
    "print(distance[\"A\"][\"B\"])  # Output: 10"
   ]
  },
  {
   "cell_type": "code",
   "execution_count": 38,
   "id": "8f1dec75",
   "metadata": {},
   "outputs": [
    {
     "name": "stdout",
     "output_type": "stream",
     "text": [
      "{'Bryce': {'GPA': 3.8, 'Major': 'Finance', 'Number_of_Courses': 5}, 'Mann': {'GPA': 3.6, 'Major': 'Business Analytics', 'Number_of_Courses': 4}, 'Tai': {'GPA': 3.4, 'Major': 'Marketing', 'Number_of_Courses': 6}}\n",
      "{'Bryce': {'GPA': 3.8, 'Major': 'Finance', 'Number_of_Courses': 5}, 'Mann': {'GPA': 3.6, 'Major': 'Business Analytics', 'Number_of_Courses': 4}, 'Tai': {'GPA': 3.4, 'Major': 'Marketing', 'Number_of_Courses': 6}, 'Conner': {'GPA': 3.9, 'Major': 'Accounting', 'Number_of_Courses': 5}}\n"
     ]
    }
   ],
   "source": [
    "Student_GPA = {\n",
    "    \"Bryce\" : {\"GPA\": 3.8, \"Major\": \"Finance\", \"Number_of_Courses\": 5},\n",
    "    \"Mann\" : {\"GPA\": 3.6, \"Major\": \"Business Analytics\", \"Number_of_Courses\": 4},\n",
    "    \"Tai\" : {\"GPA\": 3.4, \"Major\": \"Marketing\", \"Number_of_Courses\": 6}\n",
    "}\n",
    "print(Student_GPA)\n",
    "\n",
    "Student_GPA[\"Conner\"] = {\"GPA\": 3.9, \"Major\": \"Accounting\", \"Number_of_Courses\": 5}\n",
    "print(Student_GPA)"
   ]
  },
  {
   "cell_type": "code",
   "execution_count": 40,
   "id": "aa78b78d",
   "metadata": {},
   "outputs": [
    {
     "name": "stdout",
     "output_type": "stream",
     "text": [
      "x is greater than 5\n",
      "x is even\n"
     ]
    }
   ],
   "source": [
    "#if statements\n",
    "x = 10\n",
    "if x > 5:\n",
    "    print(\"x is greater than 5\")\n",
    "    \n",
    "x = 4\n",
    "\n",
    "if x % 2 == 0:\n",
    "    print(\"x is even\")\n",
    "else:\n",
    "    print(\"x is odd\")\n",
    "\n"
   ]
  },
  {
   "cell_type": "code",
   "execution_count": 41,
   "id": "ce16f910",
   "metadata": {},
   "outputs": [
    {
     "name": "stdout",
     "output_type": "stream",
     "text": [
      "x is zero\n"
     ]
    }
   ],
   "source": [
    "# Working with elif\n",
    "\n",
    "x = 0\n",
    "if x > 0:\n",
    "    print(\"x is positive\")\n",
    "elif x < 0:\n",
    "    print(\"x is negative\")\n",
    "else:\n",
    "    print(\"x is zero\")"
   ]
  },
  {
   "cell_type": "code",
   "execution_count": 42,
   "id": "b145cc12",
   "metadata": {},
   "outputs": [
    {
     "name": "stdout",
     "output_type": "stream",
     "text": [
      "i is  0\n",
      "i is  1\n",
      "i is  2\n",
      "i is  3\n",
      "i is  4\n"
     ]
    }
   ],
   "source": [
    "##for loop with an i and range function\n",
    "for i in range(5):\n",
    "    print(\"i is \", i)   "
   ]
  },
  {
   "cell_type": "code",
   "execution_count": 44,
   "id": "5203bbfd",
   "metadata": {},
   "outputs": [
    {
     "name": "stdout",
     "output_type": "stream",
     "text": [
      "x is even: 0\n",
      "x is odd: 1\n",
      "x is even: 2\n",
      "x is odd: 3\n",
      "x is even: 4\n"
     ]
    }
   ],
   "source": [
    "x = 0\n",
    "while x < 5:\n",
    "    if x % 2 == 0:\n",
    "        print(\"x is even:\", x)\n",
    "    else:\n",
    "        print(\"x is odd:\", x)\n",
    "    x += 1"
   ]
  },
  {
   "cell_type": "code",
   "execution_count": 49,
   "id": "2a6aea2e",
   "metadata": {},
   "outputs": [],
   "source": [
    "import numpy as np"
   ]
  }
 ],
 "metadata": {
  "kernelspec": {
   "display_name": "CTBA",
   "language": "python",
   "name": "python3"
  },
  "language_info": {
   "codemirror_mode": {
    "name": "ipython",
    "version": 3
   },
   "file_extension": ".py",
   "mimetype": "text/x-python",
   "name": "python",
   "nbconvert_exporter": "python",
   "pygments_lexer": "ipython3",
   "version": "3.13.5"
  }
 },
 "nbformat": 4,
 "nbformat_minor": 5
}
